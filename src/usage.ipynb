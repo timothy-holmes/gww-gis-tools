{
 "cells": [
  {
   "cell_type": "markdown",
   "metadata": {},
   "source": [
    "### The Problem\n",
    "\n",
    "When a trace is done from a node, it will stop prematurely because a valid connection between nodes is missing.\n",
    "\n",
    "- The START_NODE and END_NODE attributes have been reversed (joined node attirbutes eg. cover/surface level, may be also be transposed).\n",
    "- The START_NODE and/or END_NODE attributes are incorrect.\n",
    "\n",
    "### Possible approaches\n",
    "\n",
    "1. A reversed or missing pipe will, in most cases, create a wrongful outfall/terminus during a downstream trace.\n",
    "2. A START_NODE, END_NODE value of O_WW or O_CWW is incorrect\n",
    "3. START_NODE, END_NODE value that has no match in the nodes layer (NODE_ID) is incorrect, or asset owner is not GWW (CWW).\n",
    "4. The sewer symbol for flow direction is correct more often than pipe feature"
   ]
  },
  {
   "cell_type": "markdown",
   "metadata": {},
   "source": [
    "### Imports\n",
    "\n",
    "**trace_gis.trace_sewer** - couple of other ways to import trace_sewer module:\n",
    "- install from my github repo using magic command: `%pip install https://github.com/timothy_holmes/gww_gis_tools@example`\n",
    "- copy and paste the contents of trace_sewer.py into your databricks notebook (wrap in another class to follow same references)\n",
    "\n",
    "**geopandas** - not necessary when pulling data from the curated tables (although shapely might be needed later)"
   ]
  },
  {
   "cell_type": "code",
   "execution_count": 1,
   "metadata": {},
   "outputs": [],
   "source": [
    "import merge_gis.merge_sewer\n",
    "import trace_gis.trace_sewer as TS\n",
    "\n",
    "import geopandas as gpd"
   ]
  },
  {
   "cell_type": "markdown",
   "metadata": {},
   "source": [
    "### Load Data\n",
    "\n",
    "Geopandas is hard to install becuase of the dependencies (GDAL), but the important part is that you end up with START_NODE, END_NODE, PIPE_ID columns from the pipes layer.\n",
    "\n",
    "Can be:\n",
    "- dataframe with `...` columns (use `g.from_df` method)\n",
    "- iterable of dicts with `...` keys (use `g.from_dicts` method)\n",
    "- iterable of tuples with `...` slots (use `g.add_edges `, eg. `functools.reduce(lambda g, t: g.add_edge(*t), iter_tuples, Graph())`)"
   ]
  },
  {
   "cell_type": "code",
   "execution_count": 2,
   "metadata": {},
   "outputs": [],
   "source": [
    "layer = 'pipes'\n",
    "pipes_tab_file = merge_gis.merge_sewer.Config.output_template.format(id=layer)\n",
    "pipes_gdf = gpd.read_file(pipes_tab_file)"
   ]
  },
  {
   "cell_type": "markdown",
   "metadata": {},
   "source": [
    "### Trace Module API\n",
    "\n",
    "- Convert dataframe to hash tables to speed up tracing -> Graph object.\n",
    "- Use Trace object to trace from certain node"
   ]
  },
  {
   "cell_type": "code",
   "execution_count": 4,
   "metadata": {},
   "outputs": [
    {
     "name": "stdout",
     "output_type": "stream",
     "text": [
      "TraceResult(DIRECTION.U, 180058_CWW) 4\n"
     ]
    }
   ],
   "source": [
    "g = TS.Graph(TS.DIRECTION.U).from_gdf(pipes_gdf)\n",
    "\n",
    "tracer = TS.Trace(g)\n",
    "tr_missing_link = tracer.trace('180058_CWW')\n",
    "print(tr_missing_link, len(tr_missing_link.nodes))"
   ]
  },
  {
   "cell_type": "markdown",
   "metadata": {},
   "source": [
    "### Simulate corrections in the data"
   ]
  },
  {
   "cell_type": "code",
   "execution_count": 5,
   "metadata": {},
   "outputs": [
    {
     "name": "stdout",
     "output_type": "stream",
     "text": [
      "TraceResult(DIRECTION.U, 180058_CWW) 395\n"
     ]
    }
   ],
   "source": [
    "corrections = [\n",
    "    ('41000_WW', '180060_CWW', 'dummy1'), # WW interface\n",
    "    ('180058_CWW', '180057_CWW', 'dummy2') # bad node index\n",
    "]\n",
    "g_corrected = g\n",
    "for correction in corrections:\n",
    "    g_corrected = g_corrected.add_edge(*correction)\n",
    "\n",
    "tracer_corrected = TS.Trace(g)\n",
    "tr_corrected = tracer_corrected.trace('180058_CWW')\n",
    "print(tr_corrected, len(tr_corrected.nodes))"
   ]
  },
  {
   "cell_type": "markdown",
   "metadata": {},
   "source": [
    "### Improvement Metrics\n",
    "\n",
    "1. number of outfalls (only outfalls should be connections to MW trunks, treatment plants, or ERS)\n",
    "2. mean length of path for DS traces from every node in network"
   ]
  },
  {
   "cell_type": "code",
   "execution_count": 54,
   "metadata": {},
   "outputs": [
    {
     "name": "stdout",
     "output_type": "stream",
     "text": [
      "number of start nodes/traces:  145662\n",
      "number of encounters with an outfall:  300737\n",
      "number of unique outfalls:  1646\n",
      "average path length:  82.76013648034491\n"
     ]
    }
   ],
   "source": [
    "# inital value for metrics\n",
    "\n",
    "g_ds = TS.Graph(TS.DIRECTION.D).from_gdf(pipes_gdf)\n",
    "tracer = TS.Trace(g_ds)\n",
    "start_nodes = pipes_gdf.START_NODE.unique().tolist()\n",
    "\n",
    "outfalls_encountered = []\n",
    "path_lengths = []\n",
    "\n",
    "for start_node in start_nodes:\n",
    "    tr = tracer.trace(start_node)\n",
    "    outfalls_encountered.extend(tr.end_of_path_nodes)\n",
    "    path_lengths.append(len(tr.nodes) - 1)\n",
    "\n",
    "print('number of start nodes/traces: ', len(start_nodes))\n",
    "print('number of encounters with an outfall: ', len(outfalls_encountered))\n",
    "print('number of unique outfalls: ', len(set(outfalls_encountered))) # metric 1\n",
    "print('average path length: ', sum(path_lengths) / len(path_lengths)) # metric 2"
   ]
  },
  {
   "cell_type": "code",
   "execution_count": 55,
   "metadata": {},
   "outputs": [
    {
     "name": "stdout",
     "output_type": "stream",
     "text": [
      "number of start nodes/traces:  145662\n",
      "number of encounters with an outfall:  301520\n",
      "number of unique outfalls:  1644\n",
      "average path length:  83.4732531476981\n"
     ]
    }
   ],
   "source": [
    "# effect of two corrections\n",
    "corrections = [\n",
    "    ('41000_WW', '180060_CWW', 'dummy1'), # WW interface\n",
    "    ('180058_CWW', '180057_CWW', 'dummy2') # bad node index\n",
    "]\n",
    "\n",
    "g_corrected = g_ds\n",
    "for correction in corrections:\n",
    "    g_corrected = g_corrected.add_edge(*correction)\n",
    "\n",
    "tracer = TS.Trace(g_corrected)\n",
    "start_nodes = set(pipes_gdf.START_NODE.tolist())\n",
    "\n",
    "outfalls_encountered = []\n",
    "path_lengths = []\n",
    "\n",
    "for start_node in start_nodes: # O(n^2*log(n))\n",
    "    tr = tracer.trace(start_node)\n",
    "    outfalls_encountered.extend(tr.end_of_path_nodes)\n",
    "    path_lengths.append(len(tr.nodes) - 1)\n",
    "\n",
    "print('number of start nodes/traces: ', len(start_nodes))\n",
    "print('number of encounters with an outfall: ', len(outfalls_encountered))\n",
    "print('number of unique outfalls: ', len(set(outfalls_encountered))) # metric 1\n",
    "print('average path length: ', sum(path_lengths) / len(path_lengths)) # metric 2"
   ]
  },
  {
   "cell_type": "markdown",
   "metadata": {},
   "source": [
    "### Identify legit outfalls\n",
    "\n",
    "`outfalls` ~ possible erroneous outfall\n",
    "\n",
    "Apparent outfalls can arise from:\n",
    "- reversed pipe (edge), ie. `START_NODE, END_NODE` are transposed\n",
    "- legitimate outfalls, eg. emergency relief (overflow) structure (ERS), treatment plant outfall (eg. ATL1P), treatment plant discharge point (eg. WEO1)\n",
    "- missing other authority node"
   ]
  },
  {
   "cell_type": "code",
   "execution_count": 32,
   "metadata": {},
   "outputs": [],
   "source": [
    "# get nodes for node reference (again no need for geometry yet)\n",
    "nodes_tab_file = merge_gis.merge_sewer.Config.output_template.format(id='nodes')\n",
    "nodes_gdf = gpd.read_file(nodes_tab_file)"
   ]
  },
  {
   "cell_type": "code",
   "execution_count": 60,
   "metadata": {},
   "outputs": [
    {
     "name": "stdout",
     "output_type": "stream",
     "text": [
      "1644\n"
     ]
    }
   ],
   "source": [
    "from collections import Counter\n",
    "\n",
    "count_outfalls = Counter(outfalls_encountered)\n",
    "outfalls = sorted(set(outfalls_encountered), key=count_outfalls.get, reverse=True)\n",
    "\n",
    "print(len(outfalls))"
   ]
  },
  {
   "cell_type": "code",
   "execution_count": 67,
   "metadata": {},
   "outputs": [],
   "source": [
    "assessed = {\n",
    "    'good': [\n",
    "        '38264_CWW' # 'ALT1P' ATP inlet\n",
    "        '44177_CWW' # 'WEO1P' ATP discharge point\n",
    "    ],\n",
    "    'bad': {\n",
    "        # node_ids: (action to fix)\n",
    "    }\n",
    "}\n",
    "\n",
    "outfalls = filter(lambda o: (o not in assessed['good']) and (o not in assessed['bad']), outfalls)\n",
    "outfalls_encountered = filter(lambda o: (o not in assessed['good']) and (o not in assessed['bad']), outfalls)"
   ]
  },
  {
   "cell_type": "markdown",
   "metadata": {},
   "source": [
    "**Is this an ERS?** \n",
    "\n",
    "This only applies to CWW. I don't think WW ERS nodes are marked as such."
   ]
  },
  {
   "cell_type": "code",
   "execution_count": 68,
   "metadata": {},
   "outputs": [],
   "source": [
    "\n",
    "outfalls_where = (nodes_gdf.NODE_ID.isin(outfalls))\n",
    "outfalls_view = nodes_gdf[outfalls_where]\n",
    "ers_where = (nodes_gdf[outfalls_where].NODE_REF.str.startswith('ERS'))\n",
    "ers_view = outfalls_view[ers_where]\n",
    "confirmed_ers_where = (\n",
    "    # in most scenarios, 3 of 3 will be true\n",
    "    (ers_view.NODE_TYPE == 'AP_ENDOFPIPE') | # node type is 'AP_ENDOFPIPE', or\n",
    "    (ers_view.NODE_REF.str.endswith('P')) | # node type ends with 'P', or\n",
    "    (ers_view.NODE_ID.apply(lambda x: len(tuple(v for k, v in g.nodes.items() if x in v)) == 1)) # node has exactly one inlet (neighbour)\n",
    ")\n",
    "confirmed_ers_view = ers_view[confirmed_ers_where]\n",
    "confirmed_ers_nodes = confirmed_ers_view.NODE_ID.tolist()\n",
    "confirmed_not_ers_nodes = ers_view[~ers_view.NODE_ID.isin(confirmed_ers_nodes)].NODE_ID.tolist()\n",
    "\n",
    "assessed['good'].extend(confirmed_ers_nodes)\n",
    "assessed['bad'].update({o: 'reverse only upstream pipe' for o in confirmed_not_ers_nodes})"
   ]
  },
  {
   "cell_type": "code",
   "execution_count": 63,
   "metadata": {},
   "outputs": [],
   "source": [
    "outfalls = filter(lambda o: (o not in assessed['good']) and (o not in assessed['bad']), outfalls)"
   ]
  },
  {
   "cell_type": "markdown",
   "metadata": {},
   "source": [
    "**Is this an end of pipe node, at the top of the network?** \n",
    "\n",
    "End of pipe nodes should have only 1 connected pipe. Unfortunately, other legit outfalls might the same criteria:\n",
    "- ERS (not detected in previous step)\n",
    "- treatment plant outfalls (need to confirm none are marked end of pipe; no way to identify from data)\n",
    "- need to see there is WW equivalent to CWW's 'AP_ENDOFPIPE'"
   ]
  },
  {
   "cell_type": "code",
   "execution_count": 65,
   "metadata": {},
   "outputs": [],
   "source": [
    "outfalls_where = (nodes_gdf.NODE_ID.isin(outfalls))\n",
    "outfalls_view = nodes_gdf[outfalls_where]\n",
    "end_of_pipe_where = (\n",
    "    # end of pipe should always be a single inlet; except at a pump station, it may be a mislabelled ERS\n",
    "    (outfalls_view.NODE_TYPE == 'AP_ENDOFPIPE') & \n",
    "    ~outfalls_view.NODE_REF.str.startswith('SPS') &\n",
    "    outfalls_view.NODE_ID.apply(lambda x: len(tuple(v for k, v in g.nodes.items() if x in v)) == 1)\n",
    ") \n",
    "end_of_pipe_view = outfalls_view[end_of_pipe_where]\n",
    "\n",
    "# assessed['bad'].update({o: 'reverse only upstream pipe' for o in confirmed_not_ers_nodes})"
   ]
  }
 ],
 "metadata": {
  "kernelspec": {
   "display_name": "Python 3",
   "language": "python",
   "name": "python3"
  },
  "language_info": {
   "codemirror_mode": {
    "name": "ipython",
    "version": 3
   },
   "file_extension": ".py",
   "mimetype": "text/x-python",
   "name": "python",
   "nbconvert_exporter": "python",
   "pygments_lexer": "ipython3",
   "version": "3.10.4"
  }
 },
 "nbformat": 4,
 "nbformat_minor": 2
}
