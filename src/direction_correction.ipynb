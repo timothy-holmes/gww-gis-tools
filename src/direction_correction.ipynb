{
 "cells": [
  {
   "cell_type": "code",
   "execution_count": 1,
   "metadata": {},
   "outputs": [],
   "source": [
    "import gww_gis_tools.merge_gis.sewer_helpers as sh\n",
    "import gww_gis_tools.trace_gis.trace_sewer as ts\n",
    "\n",
    "import geopandas as gpd\n",
    "import pandas as pd\n",
    "import matplotlib.pyplot as plt"
   ]
  },
  {
   "cell_type": "code",
   "execution_count": null,
   "metadata": {},
   "outputs": [],
   "source": [
    "from tqdm import tqdm\n",
    "from tqdm.auto import tqdm\n",
    "\n",
    "tqdm.pandas()"
   ]
  },
  {
   "cell_type": "code",
   "execution_count": null,
   "metadata": {},
   "outputs": [],
   "source": [
    "layer = \"pipes\"\n",
    "pipes_tab_file = sh.Config.output_template.format(id=layer)\n",
    "pipes_gdf = gpd.read_file(pipes_tab_file)"
   ]
  },
  {
   "cell_type": "code",
   "execution_count": null,
   "metadata": {},
   "outputs": [],
   "source": [
    "g_up = ts.Graph(ts.DIRECTION.U).from_gdf(pipes_gdf)\n",
    "g_down = ts.Graph(ts.DIRECTION.D).from_gdf(pipes_gdf)"
   ]
  },
  {
   "cell_type": "code",
   "execution_count": null,
   "metadata": {},
   "outputs": [],
   "source": [
    "layer = \"nodes\"\n",
    "nodes_tab_file = sh.Config.output_template.format(id=layer)\n",
    "nodes_gdf = gpd.read_file(nodes_tab_file)"
   ]
  },
  {
   "cell_type": "code",
   "execution_count": null,
   "metadata": {},
   "outputs": [],
   "source": [
    "def classify(row):\n",
    "    in_count = row.in_count\n",
    "    out_count = row.out_count\n",
    "\n",
    "    # if in_count >= 1 and out_count == 1:\n",
    "    #     node = 'x-1'\n",
    "    # elif in_count == 0 and out_count == 1:\n",
    "    #     node = 'top'\n",
    "    # elif in_count == 1 and out_count == 2:\n",
    "    #     node = 'bif-p'\n",
    "    # elif in_count == 0 and out_count == 2:\n",
    "    #     node = 'd-top'\n",
    "    # elif out_count > 2:\n",
    "    #     node = 'x-X'\n",
    "    # elif out_count == 0:\n",
    "    #     node = 'x-0'\n",
    "    # else:\n",
    "    #     node = 'else'\n",
    "\n",
    "    return f\"{in_count}-{out_count}\"\n",
    "\n",
    "\n",
    "def approx_equal(a, b, threshold=0.1):\n",
    "    return abs(a - b) < threshold"
   ]
  },
  {
   "cell_type": "code",
   "execution_count": null,
   "metadata": {},
   "outputs": [
    {
     "name": "stderr",
     "output_type": "stream",
     "text": [
      "100%|██████████| 163538/163538 [00:00<00:00, 579971.87it/s]\n",
      "100%|██████████| 163538/163538 [00:00<00:00, 583665.26it/s]\n"
     ]
    },
    {
     "name": "stdout",
     "output_type": "stream",
     "text": [
      "in_counts: [0 1 2 3 4 8 5]\n",
      "out_counts: [0 1 2 3 4]\n"
     ]
    },
    {
     "name": "stderr",
     "output_type": "stream",
     "text": [
      "100%|██████████| 163538/163538 [00:03<00:00, 44993.86it/s]\n"
     ]
    },
    {
     "name": "stdout",
     "output_type": "stream",
     "text": [
      "unique classes: 23\n",
      "number of \"outfalls\": 5044\n"
     ]
    }
   ],
   "source": [
    "g_up = ts.Graph(ts.DIRECTION.U).from_gdf(pipes_gdf)\n",
    "g_down = ts.Graph(ts.DIRECTION.D).from_gdf(pipes_gdf)\n",
    "\n",
    "nodes_gdf[\"in_count\"] = nodes_gdf[\"NODE_ID\"].progress_apply(\n",
    "    lambda x: len(g_up.nodes.get(x, []))\n",
    ")\n",
    "nodes_gdf[\"out_count\"] = nodes_gdf[\"NODE_ID\"].progress_apply(\n",
    "    lambda x: len(g_down.nodes.get(x, []))\n",
    ")\n",
    "print(\"in_counts:\", nodes_gdf[\"in_count\"].unique())\n",
    "print(\"out_counts:\", nodes_gdf[\"out_count\"].unique())\n",
    "\n",
    "nodes_gdf[\"class\"] = nodes_gdf.progress_apply(classify, axis=1)\n",
    "print(\"unique classes:\", nodes_gdf[\"class\"].nunique())\n",
    "\n",
    "outfalls = nodes_gdf[nodes_gdf[\"out_count\"] == 0]\n",
    "print('number of \"outfalls\":', len(outfalls))\n",
    "\n",
    "nodes_gdf[[\"NODE_ID\", \"class\"]].to_csv(\n",
    "    r\"C:\\Users\\holmest1\\Greater Western Water\\IP - Spatial - Documents\\Input\\2. GWW GIS Exports\\Existing Assets\\Merged Regions\\Sewer\\node_class.csv\"\n",
    ")"
   ]
  },
  {
   "cell_type": "code",
   "execution_count": null,
   "metadata": {},
   "outputs": [
    {
     "name": "stderr",
     "output_type": "stream",
     "text": [
      "100%|██████████| 161207/161207 [00:37<00:00, 4286.98it/s]\n"
     ]
    }
   ],
   "source": [
    "nodes_lookup = nodes_gdf.set_index(\"NODE_ID\")\n",
    "\n",
    "\n",
    "def add_data(pipe):\n",
    "    flows_downhill = pipe.START_INVELEV > pipe.END_INVELEV\n",
    "    abs_drop = abs(pipe.START_INVELEV - pipe.END_INVELEV)\n",
    "\n",
    "    start_node = pipe.START_NODE\n",
    "    if not start_node in nodes_lookup.index:\n",
    "        start_node_found = False\n",
    "        start_node_type = \"else\"\n",
    "        start_node_depth = 0\n",
    "        start_node_floor = 0\n",
    "        start_node_match = False\n",
    "        start_node_class = \"else\"\n",
    "    else:\n",
    "        start_node_found = True\n",
    "        start_node_type = nodes_lookup.loc[start_node, \"NODE_TYPE\"]\n",
    "        start_node_depth = nodes_lookup.loc[start_node, \"NODE_DEPTH\"]\n",
    "        start_node_floor = (\n",
    "            nodes_lookup.loc[start_node, \"NODE_COVELEV\"] - start_node_depth\n",
    "        )\n",
    "        start_node_match = (\n",
    "            pipe.START_COVELEV == nodes_lookup.loc[start_node, \"NODE_COVELEV\"]\n",
    "        )\n",
    "        start_node_class = nodes_lookup.loc[start_node, \"class\"]\n",
    "\n",
    "    end_node = pipe.END_NODE\n",
    "    if not end_node in nodes_lookup.index:\n",
    "        end_node_found = False\n",
    "        end_node_type = \"else\"\n",
    "        end_node_depth = 0\n",
    "        end_node_floor = 0\n",
    "        end_node_match = False\n",
    "        end_node_class = \"else\"\n",
    "    else:\n",
    "        end_node_found = True\n",
    "        end_node_type = nodes_lookup.loc[end_node, \"NODE_TYPE\"]\n",
    "        end_node_depth = nodes_lookup.loc[end_node, \"NODE_DEPTH\"]\n",
    "        end_node_floor = nodes_lookup.loc[end_node, \"NODE_COVELEV\"] - end_node_depth\n",
    "        end_node_match = pipe.END_COVELEV == nodes_lookup.loc[end_node, \"NODE_COVELEV\"]\n",
    "        end_node_class = nodes_lookup.loc[end_node, \"class\"]\n",
    "\n",
    "    if (\n",
    "        start_node_found\n",
    "        and end_node_found\n",
    "        and not start_node_match\n",
    "        and not end_node_match\n",
    "    ):\n",
    "        transposed_nodes = (\n",
    "            pipe.END_COVELEV == nodes_lookup.loc[start_node, \"NODE_COVELEV\"]\n",
    "        ) and (pipe.START_COVELEV == nodes_lookup.loc[end_node, \"NODE_COVELEV\"])\n",
    "    else:\n",
    "        transposed_nodes = False\n",
    "\n",
    "    return (\n",
    "        flows_downhill,\n",
    "        start_node_found,\n",
    "        start_node_type,\n",
    "        start_node_depth,\n",
    "        start_node_floor,\n",
    "        start_node_match,\n",
    "        start_node_class,\n",
    "        end_node_found,\n",
    "        end_node_type,\n",
    "        end_node_depth,\n",
    "        end_node_floor,\n",
    "        end_node_match,\n",
    "        end_node_class,\n",
    "        transposed_nodes,\n",
    "    )\n",
    "\n",
    "\n",
    "new_cols = [\n",
    "    \"flows_downhill\",\n",
    "    \"start_node_found\",\n",
    "    \"start_node_type\",\n",
    "    \"start_node_depth\",\n",
    "    \"start_node_floor\",\n",
    "    \"start_node_match\",\n",
    "    \"start_node_class\",\n",
    "    \"end_node_found\",\n",
    "    \"end_node_type\",\n",
    "    \"end_node_depth\",\n",
    "    \"end_node_floor\",\n",
    "    \"end_node_match\",\n",
    "    \"end_node_class\",\n",
    "    \"transposed_nodes\",\n",
    "]\n",
    "\n",
    "pipes_gdf[new_cols] = pipes_gdf.progress_apply(add_data, axis=1, result_type=\"expand\")"
   ]
  },
  {
   "cell_type": "code",
   "execution_count": null,
   "metadata": {},
   "outputs": [
    {
     "name": "stdout",
     "output_type": "stream",
     "text": [
      "(161207, 32)\n",
      "(7770, 32)\n",
      "(146419, 32)\n",
      "(6020, 32)\n"
     ]
    },
    {
     "data": {
      "text/html": [
       "<div>\n",
       "<style scoped>\n",
       "    .dataframe tbody tr th:only-of-type {\n",
       "        vertical-align: middle;\n",
       "    }\n",
       "\n",
       "    .dataframe tbody tr th {\n",
       "        vertical-align: top;\n",
       "    }\n",
       "\n",
       "    .dataframe thead th {\n",
       "        text-align: right;\n",
       "    }\n",
       "</style>\n",
       "<table border=\"1\" class=\"dataframe\">\n",
       "  <thead>\n",
       "    <tr style=\"text-align: right;\">\n",
       "      <th></th>\n",
       "      <th>start_node_class</th>\n",
       "      <th>end_node_class</th>\n",
       "      <th>count</th>\n",
       "    </tr>\n",
       "  </thead>\n",
       "  <tbody>\n",
       "    <tr>\n",
       "      <th>0</th>\n",
       "      <td>1-2</td>\n",
       "      <td>1-1</td>\n",
       "      <td>757</td>\n",
       "    </tr>\n",
       "    <tr>\n",
       "      <th>1</th>\n",
       "      <td>1-2</td>\n",
       "      <td>2-1</td>\n",
       "      <td>599</td>\n",
       "    </tr>\n",
       "    <tr>\n",
       "      <th>2</th>\n",
       "      <td>1-1</td>\n",
       "      <td>1-2</td>\n",
       "      <td>435</td>\n",
       "    </tr>\n",
       "    <tr>\n",
       "      <th>3</th>\n",
       "      <td>0-2</td>\n",
       "      <td>1-1</td>\n",
       "      <td>407</td>\n",
       "    </tr>\n",
       "    <tr>\n",
       "      <th>4</th>\n",
       "      <td>0-2</td>\n",
       "      <td>2-1</td>\n",
       "      <td>345</td>\n",
       "    </tr>\n",
       "    <tr>\n",
       "      <th>...</th>\n",
       "      <td>...</td>\n",
       "      <td>...</td>\n",
       "      <td>...</td>\n",
       "    </tr>\n",
       "    <tr>\n",
       "      <th>109</th>\n",
       "      <td>1-4</td>\n",
       "      <td>2-0</td>\n",
       "      <td>1</td>\n",
       "    </tr>\n",
       "    <tr>\n",
       "      <th>110</th>\n",
       "      <td>1-4</td>\n",
       "      <td>2-1</td>\n",
       "      <td>1</td>\n",
       "    </tr>\n",
       "    <tr>\n",
       "      <th>111</th>\n",
       "      <td>2-3</td>\n",
       "      <td>1-0</td>\n",
       "      <td>1</td>\n",
       "    </tr>\n",
       "    <tr>\n",
       "      <th>112</th>\n",
       "      <td>2-3</td>\n",
       "      <td>2-0</td>\n",
       "      <td>1</td>\n",
       "    </tr>\n",
       "    <tr>\n",
       "      <th>113</th>\n",
       "      <td>4-1</td>\n",
       "      <td>1-2</td>\n",
       "      <td>1</td>\n",
       "    </tr>\n",
       "  </tbody>\n",
       "</table>\n",
       "<p>114 rows × 3 columns</p>\n",
       "</div>"
      ],
      "text/plain": [
       "    start_node_class end_node_class  count\n",
       "0                1-2            1-1    757\n",
       "1                1-2            2-1    599\n",
       "2                1-1            1-2    435\n",
       "3                0-2            1-1    407\n",
       "4                0-2            2-1    345\n",
       "..               ...            ...    ...\n",
       "109              1-4            2-0      1\n",
       "110              1-4            2-1      1\n",
       "111              2-3            1-0      1\n",
       "112              2-3            2-0      1\n",
       "113              4-1            1-2      1\n",
       "\n",
       "[114 rows x 3 columns]"
      ]
     },
     "execution_count": 98,
     "metadata": {},
     "output_type": "execute_result"
    }
   ],
   "source": [
    "good_class_mask = (pipes_gdf[\"start_node_class\"].str.endswith(\"-1\")) & (\n",
    "    pipes_gdf[\"end_node_class\"].str.endswith(\"-1\")\n",
    ")\n",
    "\n",
    "standard_node_types = [\n",
    "    \"AP_ENDOFPIPE\",\n",
    "    \"AP_ACCESSSHAFT\",\n",
    "    \"AP_CHAMBERED\",\n",
    "    \"AP_CHANGEOFGRADE\",\n",
    "    \"AP_ENDOFPIPE\",\n",
    "    \"AP_ERSPITMANHOLE\",\n",
    "    \"AP_GASCHECK\",\n",
    "    \"AP_INSPECTIONSHAFT\",\n",
    "    \"AP_JUNCTIONCHAMBER\",\n",
    "    \"AP_MAINTCHAMBER\",\n",
    "    \"AP_PIPEJUNCTION\",\n",
    "    \"AP_SIPHONENTRY\",\n",
    "    \"AP_SIPHONEXIT\",\n",
    "    \"AP_STANDARD\",\n",
    "    \"AP_VACCOLLECTIONPIT\",\n",
    "    \"AP_WALKIN\",\n",
    "    \"BEND\",\n",
    "    \"DEPTHCHANGE\",\n",
    "    \"INSPECTION_SHAFT\",\n",
    "    \"JUNCTION\",\n",
    "    \"MAINTENANCE CHAMBER\",\n",
    "    \"MAINTENANCE_SHAFT\",\n",
    "    \"MANHOLE_PUB\",\n",
    "    \"MANHOLE_PVT\",\n",
    "    \"POLY_PIT\",\n",
    "    \"PRIVATE_BEND\",\n",
    "    \"STANDARD_MANHOLE\",\n",
    "]\n",
    "\n",
    "standard_node_where = pipes_gdf[\"start_node_type\"].isin(\n",
    "    standard_node_types\n",
    ") & pipes_gdf[\"end_node_type\"].isin(standard_node_types)\n",
    "\n",
    "print(pipes_gdf.shape)\n",
    "print(pipes_gdf[~good_class_mask].shape)\n",
    "print(pipes_gdf[standard_node_where].shape)\n",
    "print(pipes_gdf[standard_node_where & ~good_class_mask].shape)\n",
    "\n",
    "pipes_gdf[standard_node_where & ~good_class_mask][\n",
    "    [\"start_node_class\", \"end_node_class\"]\n",
    "].value_counts().reset_index(name=\"count\")"
   ]
  },
  {
   "cell_type": "markdown",
   "metadata": {},
   "source": [
    "## Situation 1 \n",
    "Reversed pipe between nodes with two connected pipes each. Results in node classes 0-2 -> 2-0. \n",
    "\n",
    "Correct situation, apparently, should be 1-1 -> 1-1. Validated by transposed node cover levels. \n",
    "\n",
    "Side note: Raises question about correct order of cover levels?"
   ]
  },
  {
   "cell_type": "code",
   "execution_count": null,
   "metadata": {},
   "outputs": [
    {
     "name": "stderr",
     "output_type": "stream",
     "text": [
      "C:\\Users\\holmest1\\AppData\\Local\\Temp\\3\\ipykernel_28436\\3940152328.py:4: FutureWarning: Downcasting behavior in `replace` is deprecated and will be removed in a future version. To retain the old behavior, explicitly call `result.infer_objects(copy=False)`. To opt-in to the future behavior, set `pd.set_option('future.no_silent_downcasting', True)`\n",
      "  bool_to_int = lambda x: x.replace({True: 1, False: 0})\n"
     ]
    },
    {
     "data": {
      "image/png": "[encoded data removed]",
      "text/plain": [
       "<Figure size 432x288 with 1 Axes>"
      ]
     },
     "metadata": {
      "needs_background": "light"
     },
     "output_type": "display_data"
    },
    {
     "data": {
      "image/png": "[encoded data removed]",
      "text/plain": [
       "<Figure size 432x288 with 1 Axes>"
      ]
     },
     "metadata": {
      "needs_background": "light"
     },
     "output_type": "display_data"
    },
    {
     "data": {
      "image/png": "[encoded data removed]",
      "text/plain": [
       "<Figure size 432x288 with 1 Axes>"
      ]
     },
     "metadata": {
      "needs_background": "light"
     },
     "output_type": "display_data"
    },
    {
     "data": {
      "image/png": "[encoded data removed]",
      "text/plain": [
       "<Figure size 432x288 with 1 Axes>"
      ]
     },
     "metadata": {
      "needs_background": "light"
     },
     "output_type": "display_data"
    },
    {
     "data": {
      "image/png": "[encoded data removed]",
      "text/plain": [
       "<Figure size 432x288 with 1 Axes>"
      ]
     },
     "metadata": {
      "needs_background": "light"
     },
     "output_type": "display_data"
    },
    {
     "data": {
      "image/png": "[encoded data removed]",
      "text/plain": [
       "<Figure size 432x288 with 1 Axes>"
      ]
     },
     "metadata": {
      "needs_background": "light"
     },
     "output_type": "display_data"
    },
    {
     "data": {
      "image/png": "[encoded data removed]",
      "text/plain": [
       "<Figure size 432x288 with 1 Axes>"
      ]
     },
     "metadata": {
      "needs_background": "light"
     },
     "output_type": "display_data"
    },
    {
     "data": {
      "image/png": "[encoded data removed]",
      "text/plain": [
       "<Figure size 432x288 with 1 Axes>"
      ]
     },
     "metadata": {
      "needs_background": "light"
     },
     "output_type": "display_data"
    },
    {
     "data": {
      "image/png": "[encoded data removed]",
      "text/plain": [
       "<Figure size 432x288 with 1 Axes>"
      ]
     },
     "metadata": {
      "needs_background": "light"
     },
     "output_type": "display_data"
    },
    {
     "data": {
      "image/png": "[encoded data removed]",
      "text/plain": [
       "<Figure size 432x288 with 1 Axes>"
      ]
     },
     "metadata": {
      "needs_background": "light"
     },
     "output_type": "display_data"
    },
    {
     "data": {
      "image/png": "[encoded data removed]",
      "text/plain": [
       "<Figure size 432x288 with 1 Axes>"
      ]
     },
     "metadata": {
      "needs_background": "light"
     },
     "output_type": "display_data"
    },
    {
     "data": {
      "image/png": "[encoded data removed]",
      "text/plain": [
       "<Figure size 432x288 with 1 Axes>"
      ]
     },
     "metadata": {
      "needs_background": "light"
     },
     "output_type": "display_data"
    },
    {
     "data": {
      "image/png": "[encoded data removed]",
      "text/plain": [
       "<Figure size 432x288 with 1 Axes>"
      ]
     },
     "metadata": {
      "needs_background": "light"
     },
     "output_type": "display_data"
    },
    {
     "data": {
      "image/png": "[encoded data removed]",
      "text/plain": [
       "<Figure size 432x288 with 1 Axes>"
      ]
     },
     "metadata": {
      "needs_background": "light"
     },
     "output_type": "display_data"
    },
    {
     "data": {
      "image/png": "[encoded data removed]",
      "text/plain": [
       "<Figure size 432x288 with 1 Axes>"
      ]
     },
     "metadata": {
      "needs_background": "light"
     },
     "output_type": "display_data"
    },
    {
     "data": {
      "image/png": "[encoded data removed]",
      "text/plain": [
       "<Figure size 432x288 with 1 Axes>"
      ]
     },
     "metadata": {
      "needs_background": "light"
     },
     "output_type": "display_data"
    },
    {
     "data": {
      "image/png": "[encoded data removed]",
      "text/plain": [
       "<Figure size 432x288 with 1 Axes>"
      ]
     },
     "metadata": {
      "needs_background": "light"
     },
     "output_type": "display_data"
    },
    {
     "data": {
      "image/png": "[encoded data removed]",
      "text/plain": [
       "<Figure size 432x288 with 1 Axes>"
      ]
     },
     "metadata": {
      "needs_background": "light"
     },
     "output_type": "display_data"
    }
   ],
   "source": [
    "sit1 = pipes_gdf[\n",
    "    (pipes_gdf[\"end_node_class\"] == \"2-0\") & (pipes_gdf[\"start_node_class\"] == \"0-2\")\n",
    "]\n",
    "\n",
    "for c in pipes_gdf.columns:\n",
    "    bool_to_int = lambda x: x.replace({True: 1, False: 0})\n",
    "    if (pipes_gdf[c].nunique() <= 15) or sit1[c].dtype == float:\n",
    "        fig, ax = plt.subplots()\n",
    "        ax.hist(bool_to_int(sit1[c]), color=\"blue\", density=True, alpha=0.5)\n",
    "        ax.hist(bool_to_int(pipes_gdf[c]), color=\"red\", density=True, alpha=0.5)\n",
    "        ax.set_title(c)"
   ]
  },
  {
   "cell_type": "code",
   "execution_count": null,
   "metadata": {},
   "outputs": [],
   "source": [
    "reversed_pipes = {}"
   ]
  },
  {
   "cell_type": "code",
   "execution_count": null,
   "metadata": {},
   "outputs": [
    {
     "name": "stdout",
     "output_type": "stream",
     "text": [
      "9\n",
      "79\n"
     ]
    }
   ],
   "source": [
    "# confirmed with transposed nodes\n",
    "new_pipes = {\n",
    "    id: \"sit1, transposed depth\"\n",
    "    for id in sit1[sit1[\"transposed_nodes\"] == True][\"PIPE_ID\"].values\n",
    "}\n",
    "print(len(new_pipes))\n",
    "reversed_pipes.update(new_pipes)\n",
    "\n",
    "# not confirmed with transposed nodes\n",
    "new_pipes = {\n",
    "    id: \"sit1, not transposed depth\"\n",
    "    for id in sit1[sit1[\"transposed_nodes\"] == False][\"PIPE_ID\"].values\n",
    "}\n",
    "print(len(new_pipes))\n",
    "reversed_pipes.update(new_pipes)"
   ]
  },
  {
   "cell_type": "markdown",
   "metadata": {},
   "source": [
    "## Situation 2\n",
    "Reversed pipe between nodes. One has two connected pipes, the other has three connected pipes. Results in node classes 0-2 -> 3-0. \n",
    "\n",
    "Correct situation, apparently, should be 2-1 -> 1-1. Validated by transposed node cover levels. \n",
    "\n",
    "Side note: Raises question about correct order of cover levels?"
   ]
  },
  {
   "cell_type": "code",
   "execution_count": null,
   "metadata": {},
   "outputs": [
    {
     "name": "stderr",
     "output_type": "stream",
     "text": [
      "100%|██████████| 161207/161207 [00:16<00:00, 10061.69it/s]\n"
     ]
    },
    {
     "name": "stdout",
     "output_type": "stream",
     "text": [
      "88\n"
     ]
    },
    {
     "name": "stderr",
     "output_type": "stream",
     "text": [
      "100%|██████████| 163538/163538 [00:00<00:00, 672094.37it/s]\n"
     ]
    },
    {
     "name": "stdout",
     "output_type": "stream",
     "text": [
      "in_counts: [0 1 2 3 4 8 5]\n",
      "out_counts: [0 1 2 3 4]\n"
     ]
    },
    {
     "name": "stderr",
     "output_type": "stream",
     "text": [
      "100%|██████████| 163538/163538 [00:03<00:00, 47785.60it/s]\n"
     ]
    },
    {
     "name": "stdout",
     "output_type": "stream",
     "text": [
      "unique classes: 23\n",
      "number of \"outfalls\": 5044\n"
     ]
    }
   ],
   "source": [
    "def swap_nodes(row):\n",
    "    if row.PIPE_ID in reversed_pipes:\n",
    "        return sh.Corrections.swap_nodes(row)\n",
    "    else:\n",
    "        return row\n",
    "\n",
    "\n",
    "pipes_gdf.progress_apply(lambda x: swap_nodes(x), axis=1)\n",
    "print(len(reversed_pipes))\n",
    "\n",
    "g_up = ts.Graph(ts.DIRECTION.U).from_gdf(pipes_gdf)\n",
    "g_down = ts.Graph(ts.DIRECTION.D).from_gdf(pipes_gdf)\n",
    "\n",
    "nodes_gdf[\"in_count\"] = nodes_gdf[\"NODE_ID\"].progress_apply(\n",
    "    lambda x: len(g_up.nodes.get(x, []))\n",
    ")\n",
    "nodes_gdf[\"out_count\"] = nodes_gdf[\"NODE_ID\"].apply(\n",
    "    lambda x: len(g_down.nodes.get(x, []))\n",
    ")\n",
    "print(\"in_counts:\", nodes_gdf[\"in_count\"].unique())\n",
    "print(\"out_counts:\", nodes_gdf[\"out_count\"].unique())\n",
    "\n",
    "nodes_gdf[\"class\"] = nodes_gdf.progress_apply(classify, axis=1)\n",
    "print(\"unique classes:\", nodes_gdf[\"class\"].nunique())\n",
    "\n",
    "outfalls = nodes_gdf[nodes_gdf[\"out_count\"] == 0]\n",
    "print('number of \"outfalls\":', len(outfalls))\n",
    "\n",
    "nodes_gdf[[\"NODE_ID\", \"class\"]].to_csv(\n",
    "    r\"C:\\Users\\holmest1\\Greater Western Water\\IP - Spatial - Documents\\Input\\2. GWW GIS Exports\\Existing Assets\\Merged Regions\\Sewer\\node_class.csv\"\n",
    ")"
   ]
  },
  {
   "cell_type": "code",
   "execution_count": null,
   "metadata": {},
   "outputs": [
    {
     "name": "stderr",
     "output_type": "stream",
     "text": [
      "  0%|          | 532/159020 [02:56<14:34:19,  3.02it/s]\n"
     ]
    },
    {
     "ename": "KeyboardInterrupt",
     "evalue": "",
     "output_type": "error",
     "traceback": [
      "\u001b[1;31m---------------------------------------------------------------------------\u001b[0m",
      "\u001b[1;31mKeyboardInterrupt\u001b[0m                         Traceback (most recent call last)",
      "Input \u001b[1;32mIn [114]\u001b[0m, in \u001b[0;36m<cell line: 7>\u001b[1;34m()\u001b[0m\n\u001b[0;32m      5\u001b[0m path_lengths \u001b[38;5;241m=\u001b[39m []\n\u001b[0;32m      7\u001b[0m \u001b[38;5;28;01mfor\u001b[39;00m start_node \u001b[38;5;129;01min\u001b[39;00m tqdm(start_nodes):\n\u001b[1;32m----> 8\u001b[0m     tr \u001b[38;5;241m=\u001b[39m \u001b[43mtracer\u001b[49m\u001b[38;5;241;43m.\u001b[39;49m\u001b[43mtrace\u001b[49m\u001b[43m(\u001b[49m\u001b[43mstart_node\u001b[49m\u001b[43m)\u001b[49m\n\u001b[0;32m      9\u001b[0m     outfalls_encountered\u001b[38;5;241m.\u001b[39mextend(tr\u001b[38;5;241m.\u001b[39mend_of_path_nodes)\n\u001b[0;32m     10\u001b[0m     path_lengths\u001b[38;5;241m.\u001b[39mappend(\u001b[38;5;28mlen\u001b[39m(tr\u001b[38;5;241m.\u001b[39mnodes) \u001b[38;5;241m-\u001b[39m \u001b[38;5;241m1\u001b[39m)\n",
      "File \u001b[1;32mc:\\Users\\holmest1\\Greater Western Water\\IP - Spatial - Documents\\Input\\2. GWW GIS Exports\\Existing Assets\\Merged Regions\\merge_gis\\src\\gww_gis_tools\\trace_gis\\trace_sewer.py:170\u001b[0m, in \u001b[0;36mTrace.trace\u001b[1;34m(self, first_node, trace_name)\u001b[0m\n\u001b[0;32m    163\u001b[0m         node_queue\u001b[38;5;241m.\u001b[39mextend(next_nodes)\n\u001b[0;32m    164\u001b[0m         pipes_visited\u001b[38;5;241m.\u001b[39mupdate(next_pipes)\n\u001b[0;32m    166\u001b[0m \u001b[38;5;28;01mreturn\u001b[39;00m TraceResult(\n\u001b[0;32m    167\u001b[0m     trace_summary\u001b[38;5;241m=\u001b[39m{\n\u001b[0;32m    168\u001b[0m         \u001b[38;5;124m\"\u001b[39m\u001b[38;5;124mtrace_name\u001b[39m\u001b[38;5;124m\"\u001b[39m: trace_name,\n\u001b[0;32m    169\u001b[0m         \u001b[38;5;124m\"\u001b[39m\u001b[38;5;124mg_size\u001b[39m\u001b[38;5;124m\"\u001b[39m: \u001b[38;5;28mlen\u001b[39m(\u001b[38;5;28mself\u001b[39m\u001b[38;5;241m.\u001b[39mgraph\u001b[38;5;241m.\u001b[39mnodes),\n\u001b[1;32m--> 170\u001b[0m         \u001b[38;5;124m\"\u001b[39m\u001b[38;5;124mg_hash\u001b[39m\u001b[38;5;124m\"\u001b[39m: \u001b[38;5;28;43mhash\u001b[39;49m\u001b[43m(\u001b[49m\u001b[38;5;28;43mself\u001b[39;49m\u001b[38;5;241;43m.\u001b[39;49m\u001b[43mgraph\u001b[49m\u001b[43m)\u001b[49m,\n\u001b[0;32m    171\u001b[0m         \u001b[38;5;124m\"\u001b[39m\u001b[38;5;124mdirection\u001b[39m\u001b[38;5;124m\"\u001b[39m: \u001b[38;5;28mself\u001b[39m\u001b[38;5;241m.\u001b[39mgraph\u001b[38;5;241m.\u001b[39mdirection,\n\u001b[0;32m    172\u001b[0m         \u001b[38;5;124m\"\u001b[39m\u001b[38;5;124mstart_node\u001b[39m\u001b[38;5;124m\"\u001b[39m: first_node,\n\u001b[0;32m    173\u001b[0m         \u001b[38;5;124m\"\u001b[39m\u001b[38;5;124mstop_node_predicate\u001b[39m\u001b[38;5;124m\"\u001b[39m: inspect\u001b[38;5;241m.\u001b[39mgetsource(\u001b[38;5;28mself\u001b[39m\u001b[38;5;241m.\u001b[39mstop_node),\n\u001b[0;32m    174\u001b[0m     },\n\u001b[0;32m    175\u001b[0m     pipes\u001b[38;5;241m=\u001b[39mpipes_visited,\n\u001b[0;32m    176\u001b[0m     nodes\u001b[38;5;241m=\u001b[39mnodes_visited,\n\u001b[0;32m    177\u001b[0m     end_of_path_nodes\u001b[38;5;241m=\u001b[39mend_of_path_nodes,\n\u001b[0;32m    178\u001b[0m )\n",
      "File \u001b[1;32mc:\\Users\\holmest1\\Greater Western Water\\IP - Spatial - Documents\\Input\\2. GWW GIS Exports\\Existing Assets\\Merged Regions\\merge_gis\\src\\gww_gis_tools\\trace_gis\\trace_sewer.py:95\u001b[0m, in \u001b[0;36mGraph.__hash__\u001b[1;34m(self)\u001b[0m\n\u001b[0;32m     92\u001b[0m \u001b[38;5;28;01mdef\u001b[39;00m \u001b[38;5;21m__hash__\u001b[39m(\u001b[38;5;28mself\u001b[39m):\n\u001b[0;32m     93\u001b[0m     \u001b[38;5;28;01mreturn\u001b[39;00m \u001b[38;5;28mhash\u001b[39m(\n\u001b[0;32m     94\u001b[0m         (\n\u001b[1;32m---> 95\u001b[0m             \u001b[38;5;28;43mtuple\u001b[39;49m\u001b[43m(\u001b[49m\u001b[43m(\u001b[49m\u001b[43mk\u001b[49m\u001b[43m,\u001b[49m\u001b[43m \u001b[49m\u001b[38;5;28;43mtuple\u001b[39;49m\u001b[43m(\u001b[49m\u001b[43mv\u001b[49m\u001b[43m)\u001b[49m\u001b[43m)\u001b[49m\u001b[43m \u001b[49m\u001b[38;5;28;43;01mfor\u001b[39;49;00m\u001b[43m \u001b[49m\u001b[43mk\u001b[49m\u001b[43m,\u001b[49m\u001b[43m \u001b[49m\u001b[43mv\u001b[49m\u001b[43m \u001b[49m\u001b[38;5;129;43;01min\u001b[39;49;00m\u001b[43m \u001b[49m\u001b[38;5;28;43mself\u001b[39;49m\u001b[38;5;241;43m.\u001b[39;49m\u001b[43mnodes\u001b[49m\u001b[38;5;241;43m.\u001b[39;49m\u001b[43mitems\u001b[49m\u001b[43m(\u001b[49m\u001b[43m)\u001b[49m\u001b[43m)\u001b[49m,\n\u001b[0;32m     96\u001b[0m             \u001b[38;5;28mtuple\u001b[39m((k, \u001b[38;5;28mtuple\u001b[39m(v)) \u001b[38;5;28;01mfor\u001b[39;00m k, v \u001b[38;5;129;01min\u001b[39;00m \u001b[38;5;28mself\u001b[39m\u001b[38;5;241m.\u001b[39mnodes\u001b[38;5;241m.\u001b[39mitems()),\n\u001b[0;32m     97\u001b[0m         )\n\u001b[0;32m     98\u001b[0m     )\n",
      "File \u001b[1;32mc:\\Users\\holmest1\\Greater Western Water\\IP - Spatial - Documents\\Input\\2. GWW GIS Exports\\Existing Assets\\Merged Regions\\merge_gis\\src\\gww_gis_tools\\trace_gis\\trace_sewer.py:95\u001b[0m, in \u001b[0;36m<genexpr>\u001b[1;34m(.0)\u001b[0m\n\u001b[0;32m     92\u001b[0m \u001b[38;5;28;01mdef\u001b[39;00m \u001b[38;5;21m__hash__\u001b[39m(\u001b[38;5;28mself\u001b[39m):\n\u001b[0;32m     93\u001b[0m     \u001b[38;5;28;01mreturn\u001b[39;00m \u001b[38;5;28mhash\u001b[39m(\n\u001b[0;32m     94\u001b[0m         (\n\u001b[1;32m---> 95\u001b[0m             \u001b[38;5;28mtuple\u001b[39m((k, \u001b[38;5;28mtuple\u001b[39m(v)) \u001b[38;5;28;01mfor\u001b[39;00m k, v \u001b[38;5;129;01min\u001b[39;00m \u001b[38;5;28mself\u001b[39m\u001b[38;5;241m.\u001b[39mnodes\u001b[38;5;241m.\u001b[39mitems()),\n\u001b[0;32m     96\u001b[0m             \u001b[38;5;28mtuple\u001b[39m((k, \u001b[38;5;28mtuple\u001b[39m(v)) \u001b[38;5;28;01mfor\u001b[39;00m k, v \u001b[38;5;129;01min\u001b[39;00m \u001b[38;5;28mself\u001b[39m\u001b[38;5;241m.\u001b[39mnodes\u001b[38;5;241m.\u001b[39mitems()),\n\u001b[0;32m     97\u001b[0m         )\n\u001b[0;32m     98\u001b[0m     )\n",
      "\u001b[1;31mKeyboardInterrupt\u001b[0m: "
     ]
    }
   ],
   "source": [
    "tracer = ts.Trace(g_down)\n",
    "start_nodes = pipes_gdf.START_NODE.unique().tolist()\n",
    "\n",
    "outfalls_encountered = []\n",
    "path_lengths = []\n",
    "\n",
    "for start_node in tqdm(start_nodes):\n",
    "    tr = tracer.trace(start_node)\n",
    "    outfalls_encountered.extend(tr.end_of_path_nodes)\n",
    "    path_lengths.append(len(tr.nodes) - 1)\n",
    "\n",
    "print(\"number of start nodes/traces: \", len(start_nodes))\n",
    "print(\"number of encounters with an outfall: \", len(outfalls_encountered))\n",
    "print(\"number of unique outfalls: \", len(set(outfalls_encountered)))\n",
    "print(\"average path length: \", sum(path_lengths) / len(path_lengths))"
   ]
  }
 ],
 "metadata": {
  "kernelspec": {
   "display_name": "Python 3",
   "language": "python",
   "name": "python3"
  },
  "language_info": {
   "codemirror_mode": {
    "name": "ipython",
    "version": 3
   },
   "file_extension": ".py",
   "mimetype": "text/x-python",
   "name": "python",
   "nbconvert_exporter": "python",
   "pygments_lexer": "ipython3",
   "version": "3.10.4"
  }
 },
 "nbformat": 4,
 "nbformat_minor": 2
}
