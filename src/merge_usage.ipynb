{
 "cells": [
  {
   "cell_type": "markdown",
   "metadata": {},
   "source": [
    "To Do\n",
    "- run seeq data pull, check data (intervals) \n",
    "- reinstall gww_gis_tools"
   ]
  },
  {
   "cell_type": "code",
   "execution_count": 2,
   "metadata": {},
   "outputs": [
    {
     "name": "stdout",
     "output_type": "stream",
     "text": [
      "{<AssetType.PIPES: 'pipes'>: {<enum 'W'>: ['\\\\\\\\wro-gisapp\\\\MunsysExport\\\\SP_SEWGPIPE.shp', '\\\\\\\\wro-gisapp\\\\MunsysExport\\\\SP_SEWVPIPE.shp', '\\\\\\\\wro-gisapp\\\\MunsysExport\\\\SP_SEWRPIPE.shp'], <enum 'C'>: ['\\\\\\\\citywestwater.com.au\\\\data\\\\pccommon\\\\Asset Information\\\\MUNSYS MapInfo Data\\\\Production\\\\Data\\\\Sewer\\\\Sewer_Pipe.TAB']}, <AssetType.NODES: 'nodes'>: {<enum 'W'>: ['\\\\\\\\wro-gisapp\\\\MunsysExport\\\\SP_SEWNODE.shp'], <enum 'C'>: ['\\\\\\\\citywestwater.com.au\\\\data\\\\pccommon\\\\Asset Information\\\\MUNSYS MapInfo Data\\\\Production\\\\Data\\\\Sewer\\\\Sewer_Node.tab']}}\n",
      "C:\\Users\\holmest1\\Greater Western Water\\IP - Spatial - Documents\\Input\\2. GWW GIS Exports\\Existing Assets\\Merged Regions\\Sewer\\GWW_{id}.tab\n",
      "AssetType.PIPES\t2024-08-16 08:56:37\n",
      "AssetType.NODES\t2024-08-16 09:00:23\n",
      "CWW GDF col ABANDONED_DATE contained 123451 bad dates\n",
      "CWW GDF col CCTV_DATE contained 123451 bad dates\n",
      "CWW GDF col CONSTRUCTION_DATE contained 3528 bad dates\n",
      "CWW GDF col DATE_STAMP contained 0 bad dates\n",
      "CWW GDF col REFOAM_DATE contained 123451 bad dates\n",
      "CWW GDF col RELINING_DATE contained 114534 bad dates\n",
      "CWW GDF col WARRANTY_EXP_DATE contained 123430 bad dates\n",
      "WW GDF CONSTRUCTION_DATE col contained 643 bad dates\n",
      "WW GDF DATE_CREAT col contained 41434 bad dates\n",
      "CWW GDF col CONSTRUCTION_DATE contained 3481 bad dates\n",
      "CWW GDF col RELINING_DATE contained 125976 bad dates\n",
      "CWW GDF col LINEAGE_DATE contained 0 bad dates\n",
      "WW GDF CONSTRUCTION_DATE col contained 350 bad dates\n",
      "WW GDF DATE_CREAT col contained 41649 bad dates\n",
      "C:\\Users\\holmest1\\Greater Western Water\\IP - Spatial - Documents\\Input\\2. GWW GIS Exports\\Existing Assets\\Merged Regions\\Sewer\\GWW_pipes.tab\n",
      "C:\\Users\\holmest1\\Greater Western Water\\IP - Spatial - Documents\\Input\\2. GWW GIS Exports\\Existing Assets\\Merged Regions\\Sewer\\GWW_nodes.tab\n"
     ]
    }
   ],
   "source": [
    "import functools\n",
    "from datetime import datetime\n",
    "\n",
    "import gww_gis_tools.merge_gis.merge_sewer as ms\n",
    "import gww_gis_tools.merge_gis.sewer_helpers as helpers\n",
    "\n",
    "# set data source\n",
    "config = helpers.Config()\n",
    "config.files = {\n",
    "    k: v \n",
    "    for k,v in config.network_files.items() \n",
    "    if k in [helpers.AssetType.PIPES, helpers.AssetType.NODES]\n",
    "}\n",
    "print(config.files)\n",
    "\n",
    "# check output location\n",
    "print(config.output_template)\n",
    "\n",
    "# check last mod time\n",
    "for k, v in config.possible_outpaths().items():\n",
    "    print(f'{k}\\t{datetime.fromtimestamp(v).strftime(\"%Y-%m-%d %H:%M:%S\")}')\n",
    "# run merge\n",
    "output = {}\n",
    "\n",
    "func_list = [ms.merge, ms.make_corrections, ms.save_output]\n",
    "outpaths = functools.reduce(lambda o, func: func(config, o), func_list, output)\n",
    "\n",
    "print(\"\\n\".join(outpaths))"
   ]
  }
 ],
 "metadata": {
  "kernelspec": {
   "display_name": ".venv",
   "language": "python",
   "name": "python3"
  },
  "language_info": {
   "codemirror_mode": {
    "name": "ipython",
    "version": 3
   },
   "file_extension": ".py",
   "mimetype": "text/x-python",
   "name": "python",
   "nbconvert_exporter": "python",
   "pygments_lexer": "ipython3",
   "version": "3.13.1"
  }
 },
 "nbformat": 4,
 "nbformat_minor": 2
}
