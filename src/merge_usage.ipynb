{
 "cells": [
  {
   "cell_type": "markdown",
   "metadata": {},
   "source": [
    "To Do\n",
    "- run seeq data pull, check data (intervals) \n",
    "- reinstall gww_gis_tools"
   ]
  },
  {
   "cell_type": "code",
   "execution_count": 1,
   "metadata": {},
   "outputs": [],
   "source": [
    "import functools\n",
    "from datetime import datetime\n",
    "\n",
    "import gww_gis_tools.merge_gis.merge_sewer as ms\n",
    "import gww_gis_tools.merge_gis.sewer_helpers as helpers"
   ]
  },
  {
   "cell_type": "code",
   "execution_count": 2,
   "metadata": {},
   "outputs": [
    {
     "name": "stdout",
     "output_type": "stream",
     "text": [
      "C:\\Users\\holmest1\\Greater Western Water\\IP - Spatial - Documents\\Input\\2. GWW GIS Exports\\Existing Assets\\Merged Regions\\Sewer\\GWW_{id}.tab\n",
      "parcels\t2024-05-09 11:23:06\n",
      "pipes\t2024-05-09 11:24:16\n",
      "branches\t2024-05-09 11:26:23\n",
      "nodes\t2024-05-09 11:27:03\n"
     ]
    }
   ],
   "source": [
    "# set data source\n",
    "config = helpers.Config()\n",
    "config.files = config.local_files\n",
    "\n",
    "# check output location\n",
    "print(config.output_template)\n",
    "\n",
    "# check last mod time\n",
    "for k, v in config.possible_outpaths().items():\n",
    "    print(f'{k}\\t{datetime.fromtimestamp(v).strftime(\"%Y-%m-%d %H:%M:%S\")}')"
   ]
  },
  {
   "cell_type": "code",
   "execution_count": 3,
   "metadata": {},
   "outputs": [
    {
     "name": "stdout",
     "output_type": "stream",
     "text": [
      "Loaded 705890 rows from Parcels.tab\n",
      "Loaded 115292 rows from SP_PROPERTY.shp\n",
      "Intersecting Fields: ['GID', 'TAG_VALUE', 'geometry']\n",
      "['ADDRESS', 'DISTRICT', 'STREETNAME', 'STREET_NO', 'ST_SUFFIX']\n",
      "['COMMENTS', 'DATE_STAMP', 'FEATURE_QUALITY_ID_DEPRCTD', 'FEATURE_TYPE_DEPRCTD', 'GEOM_AREA', 'PARENT_GID', 'PFI', 'PFI_CREATED', 'REMOVED_FLAG', 'SRC_TABLE', 'STATUS', 'TAG_ANGLE', 'TAG_JUST', 'TAG_SIZE', 'TAG_X', 'TAG_Y', 'UFI', 'UFI_CREATED', 'UFI_OLD', 'Z_LEVEL']\n",
      "Loaded 37270 rows from SP_SEWGPIPE.shp\n",
      "Loaded 16 rows from SP_SEWVPIPE.shp\n",
      "Loaded 2699 rows from SP_SEWRPIPE.shp\n",
      "Loaded 121322 rows from Sewer_Pipe.TAB\n",
      "Intersecting Fields: ['ASSET_OWNER', 'COMMENTS', 'END_COVELEV', 'END_INVELEV', 'END_NODE', 'GEOM_LENGTH', 'GID', 'PIPE_DIA', 'PIPE_GRADIENT', 'PIPE_ID', 'PIPE_MATRL', 'PIPE_TYPE', 'SRC_TABLE', 'START_COVELEV', 'START_INVELEV', 'START_NODE', 'geometry']\n",
      "['ABANDONED_DATE', 'APPROVED_STATUS', 'ASSET_KEY', 'AVAILABILITY', 'BACKFILL_MATERIAL', 'BEDDING_MATERIAL', 'CCTV_DATE', 'CCTV_VIDEO_REF', 'CHANGE_OF_ALIGNMENT_TYPE', 'COATING', 'CONSTRUCTION_DATE', 'CONSTRUCTION_PROJECT', 'DATA_SOURCE', 'DATE_STAMP', 'EXCAVATION_METHOD', 'GROUND_TYPE', 'JOINTING_MATERIAL', 'MANUFACTURER_CODE', 'OPERATIONAL_STATE', 'PARENT_GID', 'PIPE_DIA_CODE', 'PIPE_MATERIAL_CODE', 'PIPE_PRODUCT', 'PIPE_SHAPE_CODE', 'REFOAMED_BY', 'REFOAM_DATE', 'REFOAM_GUARANTEE_EXPIRE', 'RELINING_DATE', 'RELINING_MATERIAL', 'RELINING_METHOD', 'RESP_AUTH', 'SEWGPIPECLASS_CODE', 'SOURCE_DOCUMENT_REFERENCE', 'STORED_PIPE_GRADIENT', 'STORED_PIPE_LENGTH', 'SW_ID', 'SW_SID', 'SW_UNIQUEID', 'TAG_ANGLE', 'TAG_JUST', 'TAG_SIZE', 'TAG_VALUE', 'TAG_X', 'TAG_Y', 'WARRANTY_EXP_DATE']\n",
      "['CRITICALTY', 'DATE_CREAT', 'DATE_MADE', 'ESTATE', 'LOCALITY', 'OP_STATUS', 'STREET_ID']\n",
      "Loaded 99139 rows from SP_SEWSERV.shp\n",
      "Loaded 427704 rows from Sewer_Branch.tab\n",
      "Intersecting Fields: ['ASSET_OWNER', 'COMMENTS', 'GEOM_LENGTH', 'GID', 'PIPE_ID', 'PRCL_GID', 'PROP_GID', 'SERV_TYPE', 'geometry']\n",
      "['ASSET_KEY', 'AVAILIBILTY', 'BRANCH_BTCD', 'CCTV_DATE', 'CCTV_VIDEO_REF', 'CONNECTION_STATUS', 'CONSTRUCTION_DATE', 'CONSTRUCTION_PROJECT', 'DATA_SOURCE', 'DATE_STAMP', 'DEPTH_TO_END_POINT_INVERTLEVEL', 'INVERT_LEVEL_AT_END_OF_BRANCH', 'LEVEL_AT_TOP_OF_STACK', 'NOMINAL_SIZE_OF_BRANCH', 'OB_LENGTH', 'OPERATIONAL_STATE', 'PARENT_GID', 'PROPERTY_SERVICE_NUMBER', 'REFOAM_DATE', 'REFOAM_GUARANTEE_EXPIRE', 'RELINING_DATE', 'RELINING_MATERIAL', 'RELINING_METHOD', 'RESP_AUTH', 'SERV_DEPTH', 'SERV_DIA', 'SERV_DIST', 'SERV_ID', 'SERV_LENGTH', 'SERV_MATRL', 'STORED_BRANCH_CHAINAGE', 'STORED_BRANCH_LENGTH', 'STORED_END_OF_PIPE_CHAINAGE', 'STORED_PIPE_GRADIENT', 'STRADDR_GID', 'SURFACE_LEVEL_AT_BRANCH_END', 'SW_ID', 'SW_SID', 'SW_UNIQUEID', 'TAG_ANGLE', 'TAG_JUST', 'TAG_SIZE', 'TAG_VALUE', 'TAG_X', 'TAG_Y']\n",
      "['SRC_TABLE']\n",
      "Loaded 40228 rows from SP_SEWNODE.shp\n",
      "Loaded 123310 rows from Sewer_Node.tab\n",
      "Intersecting Fields: ['ASSET_OWNER', 'COMMENTS', 'GID', 'NODE_COVELEV', 'NODE_DEPTH', 'NODE_ID', 'NODE_REF', 'NODE_TYPE', 'SYM_ANGLE', 'SYM_NAME', 'SYM_SCALE', 'geometry']\n",
      "['ACTUAL_INTERNAL_SIZE', 'ASSET_CATEGORY', 'ASSET_GROUP', 'CONSTRUCTION_DATE', 'DATA_QUALITY', 'DATA_SOURCE', 'GIS_AMEND_NO', 'LINEAGE_DATE', 'LINEAGE_PARENT_GID', 'NODE_COVELEV_SOURCE', 'NODE_FUNC', 'NODE_NAME', 'NODE_PRODUCT', 'NOGO', 'NOMINAL_INTERNAL_SIZE', 'NOMINAL_PIPESIZE_RANGE', 'OPERATIONAL_STATE', 'PENSTOCK_STATUS', 'RELINING_DATE', 'RELINING_MATERIAL', 'RESP_AUTH', 'TAG_ANGLE', 'TAG_JUST', 'TAG_SIZE', 'TAG_VALUE', 'TAG_X', 'TAG_Y', 'VALVE_FUNCTION', 'VALVE_TYPE']\n",
      "['ALARM', 'CRITICALTY', 'DATE_CREAT', 'DATE_MADE', 'DIAMETER', 'ESTATE', 'FEATURETYP', 'LOCALITY', 'MATERIAL', 'MH_DESC', 'OP_STATUS', 'SRC_TABLE', 'STREET_ID']\n",
      "nodes saved\n"
     ]
    },
    {
     "ename": "AttributeError",
     "evalue": "'list' object has no attribute 'items'",
     "output_type": "error",
     "traceback": [
      "\u001b[1;31m---------------------------------------------------------------------------\u001b[0m",
      "\u001b[1;31mAttributeError\u001b[0m                            Traceback (most recent call last)",
      "Input \u001b[1;32mIn [3]\u001b[0m, in \u001b[0;36m<cell line: 7>\u001b[1;34m()\u001b[0m\n\u001b[0;32m      4\u001b[0m func_list \u001b[38;5;241m=\u001b[39m [ms\u001b[38;5;241m.\u001b[39mmerge, ms\u001b[38;5;241m.\u001b[39mmake_corrections, ms\u001b[38;5;241m.\u001b[39msave_output]\n\u001b[0;32m      5\u001b[0m outpaths \u001b[38;5;241m=\u001b[39m functools\u001b[38;5;241m.\u001b[39mreduce(\u001b[38;5;28;01mlambda\u001b[39;00m o, func: func(config, o), func_list, output)\n\u001b[1;32m----> 7\u001b[0m \u001b[38;5;28;01mfor\u001b[39;00m k, v \u001b[38;5;129;01min\u001b[39;00m \u001b[43moutpaths\u001b[49m\u001b[38;5;241;43m.\u001b[39;49m\u001b[43mitems\u001b[49m():\n\u001b[0;32m      8\u001b[0m     \u001b[38;5;28mprint\u001b[39m(k, v\u001b[38;5;241m.\u001b[39mshape)\n",
      "\u001b[1;31mAttributeError\u001b[0m: 'list' object has no attribute 'items'"
     ]
    }
   ],
   "source": [
    "# run merge\n",
    "output = dict()\n",
    "\n",
    "func_list = [ms.merge, ms.make_corrections, ms.save_output]\n",
    "outpaths = functools.reduce(lambda o, func: func(config, o), func_list, output)\n",
    "\n",
    "print(\"\\n\".join(outpaths))"
   ]
  },
  {
   "cell_type": "code",
   "execution_count": 5,
   "metadata": {},
   "outputs": [
    {
     "name": "stdout",
     "output_type": "stream",
     "text": [
      "['C:\\\\Users\\\\holmest1\\\\Greater Western Water\\\\IP - Spatial - Documents\\\\Input\\\\2. GWW GIS Exports\\\\Existing Assets\\\\Merged Regions\\\\Sewer\\\\GWW_parcels.tab', 'C:\\\\Users\\\\holmest1\\\\Greater Western Water\\\\IP - Spatial - Documents\\\\Input\\\\2. GWW GIS Exports\\\\Existing Assets\\\\Merged Regions\\\\Sewer\\\\GWW_pipes.tab', 'C:\\\\Users\\\\holmest1\\\\Greater Western Water\\\\IP - Spatial - Documents\\\\Input\\\\2. GWW GIS Exports\\\\Existing Assets\\\\Merged Regions\\\\Sewer\\\\GWW_branches.tab', 'C:\\\\Users\\\\holmest1\\\\Greater Western Water\\\\IP - Spatial - Documents\\\\Input\\\\2. GWW GIS Exports\\\\Existing Assets\\\\Merged Regions\\\\Sewer\\\\GWW_nodes.tab']\n"
     ]
    }
   ],
   "source": [
    "type(outpaths)\n",
    "print(outpaths)"
   ]
  }
 ],
 "metadata": {
  "kernelspec": {
   "display_name": "Python 3",
   "language": "python",
   "name": "python3"
  },
  "language_info": {
   "codemirror_mode": {
    "name": "ipython",
    "version": 3
   },
   "file_extension": ".py",
   "mimetype": "text/x-python",
   "name": "python",
   "nbconvert_exporter": "python",
   "pygments_lexer": "ipython3",
   "version": "3.10.4"
  }
 },
 "nbformat": 4,
 "nbformat_minor": 2
}
