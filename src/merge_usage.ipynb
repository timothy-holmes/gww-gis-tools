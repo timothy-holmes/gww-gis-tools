{
 "cells": [
  {
   "cell_type": "markdown",
   "metadata": {},
   "source": [
    "To Do\n",
    "- run seeq data pull, check data (intervals) \n",
    "- reinstall gww_gis_tools"
   ]
  },
  {
   "cell_type": "code",
   "execution_count": 1,
   "metadata": {},
   "outputs": [],
   "source": [
    "import functools\n",
    "from datetime import datetime\n",
    "\n",
    "import gww_gis_tools.merge_gis.merge_sewer as ms\n",
    "import gww_gis_tools.merge_gis.sewer_helpers as helpers"
   ]
  },
  {
   "cell_type": "code",
   "execution_count": 2,
   "metadata": {},
   "outputs": [
    {
     "name": "stdout",
     "output_type": "stream",
     "text": [
      "{<AssetType.PARCELS: 'parcels'>: {<enum 'W'>: ['\\\\\\\\wro-gisapp\\\\MunsysExport\\\\SP_PROPERTY.shp'], <enum 'C'>: ['\\\\\\\\citywestwater.com.au\\\\data\\\\pccommon\\\\Asset Information\\\\MUNSYS MapInfo Data\\\\Production\\\\Data\\\\Cadastre\\\\Parcels.tab']}, <AssetType.PIPES: 'pipes'>: {<enum 'W'>: ['\\\\\\\\wro-gisapp\\\\MunsysExport\\\\SP_SEWGPIPE.shp', '\\\\\\\\wro-gisapp\\\\MunsysExport\\\\SP_SEWVPIPE.shp', '\\\\\\\\wro-gisapp\\\\MunsysExport\\\\SP_SEWRPIPE.shp'], <enum 'C'>: ['\\\\\\\\citywestwater.com.au\\\\data\\\\pccommon\\\\Asset Information\\\\MUNSYS MapInfo Data\\\\Production\\\\Data\\\\Sewer\\\\Sewer_Pipe.TAB']}, <AssetType.BRANCHES: 'branches'>: {<enum 'W'>: ['\\\\\\\\wro-gisapp\\\\MunsysExport\\\\SP_SEWSERV.shp'], <enum 'C'>: ['\\\\\\\\citywestwater.com.au\\\\data\\\\pccommon\\\\Asset Information\\\\MUNSYS MapInfo Data\\\\Production\\\\Data\\\\Sewer\\\\Sewer_Branch.tab']}, <AssetType.NODES: 'nodes'>: {<enum 'W'>: ['\\\\\\\\wro-gisapp\\\\MunsysExport\\\\SP_SEWNODE.shp'], <enum 'C'>: ['\\\\\\\\citywestwater.com.au\\\\data\\\\pccommon\\\\Asset Information\\\\MUNSYS MapInfo Data\\\\Production\\\\Data\\\\Sewer\\\\Sewer_Node.tab']}}\n",
      "C:\\Users\\holmest1\\Greater Western Water\\IP - Spatial - Documents\\Input\\2. GWW GIS Exports\\Existing Assets\\Merged Regions\\Sewer\\GWW_{id}.tab\n"
     ]
    }
   ],
   "source": [
    "# set data source\n",
    "config = helpers.Config()\n",
    "config.files = config.network_files\n",
    "print(config.files)\n",
    "\n",
    "# check output location\n",
    "print(config.output_template)\n",
    "\n",
    "# check last mod time\n",
    "for k, v in config.possible_outpaths().items():\n",
    "    print(f'{k}\\t{datetime.fromtimestamp(v).strftime(\"%Y-%m-%d %H:%M:%S\")}')"
   ]
  },
  {
   "cell_type": "code",
   "execution_count": 4,
   "metadata": {},
   "outputs": [
    {
     "name": "stderr",
     "output_type": "stream",
     "text": [
      "c:\\Env\\Py\\GDAL\\Lib\\site-packages\\pyogrio\\raw.py:196: RuntimeWarning: Non closed ring detected. To avoid accepting it, set the OGR_GEOMETRY_ACCEPT_UNCLOSED_RING configuration option to NO\n",
      "  return ogr_read(\n"
     ]
    },
    {
     "ename": "InvalidIndexError",
     "evalue": "Reindexing only valid with uniquely valued Index objects",
     "output_type": "error",
     "traceback": [
      "\u001b[1;31m---------------------------------------------------------------------------\u001b[0m",
      "\u001b[1;31mInvalidIndexError\u001b[0m                         Traceback (most recent call last)",
      "Cell \u001b[1;32mIn[4], line 5\u001b[0m\n\u001b[0;32m      2\u001b[0m output \u001b[38;5;241m=\u001b[39m {}\n\u001b[0;32m      4\u001b[0m func_list \u001b[38;5;241m=\u001b[39m [ms\u001b[38;5;241m.\u001b[39mmerge, ms\u001b[38;5;241m.\u001b[39mmake_corrections, ms\u001b[38;5;241m.\u001b[39msave_output]\n\u001b[1;32m----> 5\u001b[0m outpaths \u001b[38;5;241m=\u001b[39m \u001b[43mfunctools\u001b[49m\u001b[38;5;241;43m.\u001b[39;49m\u001b[43mreduce\u001b[49m\u001b[43m(\u001b[49m\u001b[38;5;28;43;01mlambda\u001b[39;49;00m\u001b[43m \u001b[49m\u001b[43mo\u001b[49m\u001b[43m,\u001b[49m\u001b[43m \u001b[49m\u001b[43mfunc\u001b[49m\u001b[43m:\u001b[49m\u001b[43m \u001b[49m\u001b[43mfunc\u001b[49m\u001b[43m(\u001b[49m\u001b[43mconfig\u001b[49m\u001b[43m,\u001b[49m\u001b[43m \u001b[49m\u001b[43mo\u001b[49m\u001b[43m)\u001b[49m\u001b[43m,\u001b[49m\u001b[43m \u001b[49m\u001b[43mfunc_list\u001b[49m\u001b[43m,\u001b[49m\u001b[43m \u001b[49m\u001b[43moutput\u001b[49m\u001b[43m)\u001b[49m\n\u001b[0;32m      7\u001b[0m \u001b[38;5;28mprint\u001b[39m(\u001b[38;5;124m\"\u001b[39m\u001b[38;5;130;01m\\n\u001b[39;00m\u001b[38;5;124m\"\u001b[39m\u001b[38;5;241m.\u001b[39mjoin(outpaths))\n",
      "Cell \u001b[1;32mIn[4], line 5\u001b[0m, in \u001b[0;36m<lambda>\u001b[1;34m(o, func)\u001b[0m\n\u001b[0;32m      2\u001b[0m output \u001b[38;5;241m=\u001b[39m {}\n\u001b[0;32m      4\u001b[0m func_list \u001b[38;5;241m=\u001b[39m [ms\u001b[38;5;241m.\u001b[39mmerge, ms\u001b[38;5;241m.\u001b[39mmake_corrections, ms\u001b[38;5;241m.\u001b[39msave_output]\n\u001b[1;32m----> 5\u001b[0m outpaths \u001b[38;5;241m=\u001b[39m functools\u001b[38;5;241m.\u001b[39mreduce(\u001b[38;5;28;01mlambda\u001b[39;00m o, func: \u001b[43mfunc\u001b[49m\u001b[43m(\u001b[49m\u001b[43mconfig\u001b[49m\u001b[43m,\u001b[49m\u001b[43m \u001b[49m\u001b[43mo\u001b[49m\u001b[43m)\u001b[49m, func_list, output)\n\u001b[0;32m      7\u001b[0m \u001b[38;5;28mprint\u001b[39m(\u001b[38;5;124m\"\u001b[39m\u001b[38;5;130;01m\\n\u001b[39;00m\u001b[38;5;124m\"\u001b[39m\u001b[38;5;241m.\u001b[39mjoin(outpaths))\n",
      "File \u001b[1;32mc:\\Users\\holmest1\\Greater Western Water\\IP - Spatial - Documents\\Input\\2. GWW GIS Exports\\Existing Assets\\Merged Regions\\merge_gis\\src\\gww_gis_tools\\merge_gis\\merge_sewer.py:89\u001b[0m, in \u001b[0;36mmerge\u001b[1;34m(config, output)\u001b[0m\n\u001b[0;32m     85\u001b[0m     crs \u001b[38;5;241m=\u001b[39m cww_gdf\u001b[38;5;241m.\u001b[39mcrs\n\u001b[0;32m     86\u001b[0m     ww_gdf\u001b[38;5;241m.\u001b[39mto_crs(crs, inplace\u001b[38;5;241m=\u001b[39m\u001b[38;5;28;01mTrue\u001b[39;00m)\n\u001b[0;32m     88\u001b[0m     output[a] \u001b[38;5;241m=\u001b[39m gpd\u001b[38;5;241m.\u001b[39mGeoDataFrame(\n\u001b[1;32m---> 89\u001b[0m         \u001b[43mpd\u001b[49m\u001b[38;5;241;43m.\u001b[39;49m\u001b[43mconcat\u001b[49m\u001b[43m(\u001b[49m\u001b[43m[\u001b[49m\u001b[43mcww_gdf\u001b[49m\u001b[43m[\u001b[49m\u001b[43mfields\u001b[49m\u001b[43m]\u001b[49m\u001b[43m,\u001b[49m\u001b[43m \u001b[49m\u001b[43mww_gdf\u001b[49m\u001b[43m[\u001b[49m\u001b[43mfields\u001b[49m\u001b[43m]\u001b[49m\u001b[43m]\u001b[49m\u001b[43m,\u001b[49m\u001b[43m \u001b[49m\u001b[43mignore_index\u001b[49m\u001b[38;5;241;43m=\u001b[39;49m\u001b[38;5;28;43;01mTrue\u001b[39;49;00m\u001b[43m)\u001b[49m,\n\u001b[0;32m     90\u001b[0m         crs\u001b[38;5;241m=\u001b[39mcrs,\n\u001b[0;32m     91\u001b[0m     )\n\u001b[0;32m     93\u001b[0m \u001b[38;5;28;01mreturn\u001b[39;00m output\n",
      "File \u001b[1;32mc:\\Env\\Py\\GDAL\\Lib\\site-packages\\pandas\\core\\reshape\\concat.py:395\u001b[0m, in \u001b[0;36mconcat\u001b[1;34m(objs, axis, join, ignore_index, keys, levels, names, verify_integrity, sort, copy)\u001b[0m\n\u001b[0;32m    380\u001b[0m     copy \u001b[38;5;241m=\u001b[39m \u001b[38;5;28;01mFalse\u001b[39;00m\n\u001b[0;32m    382\u001b[0m op \u001b[38;5;241m=\u001b[39m _Concatenator(\n\u001b[0;32m    383\u001b[0m     objs,\n\u001b[0;32m    384\u001b[0m     axis\u001b[38;5;241m=\u001b[39maxis,\n\u001b[1;32m   (...)\u001b[0m\n\u001b[0;32m    392\u001b[0m     sort\u001b[38;5;241m=\u001b[39msort,\n\u001b[0;32m    393\u001b[0m )\n\u001b[1;32m--> 395\u001b[0m \u001b[38;5;28;01mreturn\u001b[39;00m \u001b[43mop\u001b[49m\u001b[38;5;241;43m.\u001b[39;49m\u001b[43mget_result\u001b[49m\u001b[43m(\u001b[49m\u001b[43m)\u001b[49m\n",
      "File \u001b[1;32mc:\\Env\\Py\\GDAL\\Lib\\site-packages\\pandas\\core\\reshape\\concat.py:680\u001b[0m, in \u001b[0;36m_Concatenator.get_result\u001b[1;34m(self)\u001b[0m\n\u001b[0;32m    678\u001b[0m         obj_labels \u001b[38;5;241m=\u001b[39m obj\u001b[38;5;241m.\u001b[39maxes[\u001b[38;5;241m1\u001b[39m \u001b[38;5;241m-\u001b[39m ax]\n\u001b[0;32m    679\u001b[0m         \u001b[38;5;28;01mif\u001b[39;00m \u001b[38;5;129;01mnot\u001b[39;00m new_labels\u001b[38;5;241m.\u001b[39mequals(obj_labels):\n\u001b[1;32m--> 680\u001b[0m             indexers[ax] \u001b[38;5;241m=\u001b[39m \u001b[43mobj_labels\u001b[49m\u001b[38;5;241;43m.\u001b[39;49m\u001b[43mget_indexer\u001b[49m\u001b[43m(\u001b[49m\u001b[43mnew_labels\u001b[49m\u001b[43m)\u001b[49m\n\u001b[0;32m    682\u001b[0m     mgrs_indexers\u001b[38;5;241m.\u001b[39mappend((obj\u001b[38;5;241m.\u001b[39m_mgr, indexers))\n\u001b[0;32m    684\u001b[0m new_data \u001b[38;5;241m=\u001b[39m concatenate_managers(\n\u001b[0;32m    685\u001b[0m     mgrs_indexers, \u001b[38;5;28mself\u001b[39m\u001b[38;5;241m.\u001b[39mnew_axes, concat_axis\u001b[38;5;241m=\u001b[39m\u001b[38;5;28mself\u001b[39m\u001b[38;5;241m.\u001b[39mbm_axis, copy\u001b[38;5;241m=\u001b[39m\u001b[38;5;28mself\u001b[39m\u001b[38;5;241m.\u001b[39mcopy\n\u001b[0;32m    686\u001b[0m )\n",
      "File \u001b[1;32mc:\\Env\\Py\\GDAL\\Lib\\site-packages\\pandas\\core\\indexes\\base.py:3885\u001b[0m, in \u001b[0;36mIndex.get_indexer\u001b[1;34m(self, target, method, limit, tolerance)\u001b[0m\n\u001b[0;32m   3882\u001b[0m \u001b[38;5;28mself\u001b[39m\u001b[38;5;241m.\u001b[39m_check_indexing_method(method, limit, tolerance)\n\u001b[0;32m   3884\u001b[0m \u001b[38;5;28;01mif\u001b[39;00m \u001b[38;5;129;01mnot\u001b[39;00m \u001b[38;5;28mself\u001b[39m\u001b[38;5;241m.\u001b[39m_index_as_unique:\n\u001b[1;32m-> 3885\u001b[0m     \u001b[38;5;28;01mraise\u001b[39;00m InvalidIndexError(\u001b[38;5;28mself\u001b[39m\u001b[38;5;241m.\u001b[39m_requires_unique_msg)\n\u001b[0;32m   3887\u001b[0m \u001b[38;5;28;01mif\u001b[39;00m \u001b[38;5;28mlen\u001b[39m(target) \u001b[38;5;241m==\u001b[39m \u001b[38;5;241m0\u001b[39m:\n\u001b[0;32m   3888\u001b[0m     \u001b[38;5;28;01mreturn\u001b[39;00m np\u001b[38;5;241m.\u001b[39marray([], dtype\u001b[38;5;241m=\u001b[39mnp\u001b[38;5;241m.\u001b[39mintp)\n",
      "\u001b[1;31mInvalidIndexError\u001b[0m: Reindexing only valid with uniquely valued Index objects"
     ]
    }
   ],
   "source": [
    "# run merge\n",
    "output = {}\n",
    "\n",
    "func_list = [ms.merge, ms.make_corrections, ms.save_output]\n",
    "outpaths = functools.reduce(lambda o, func: func(config, o), func_list, output)\n",
    "\n",
    "print(\"\\n\".join(outpaths))"
   ]
  },
  {
   "cell_type": "code",
   "execution_count": null,
   "metadata": {},
   "outputs": [
    {
     "name": "stdout",
     "output_type": "stream",
     "text": [
      "['C:\\\\Users\\\\holmest1\\\\Greater Western Water\\\\IP - Spatial - Documents\\\\Input\\\\2. GWW GIS Exports\\\\Existing Assets\\\\Merged Regions\\\\Sewer\\\\GWW_parcels.tab', 'C:\\\\Users\\\\holmest1\\\\Greater Western Water\\\\IP - Spatial - Documents\\\\Input\\\\2. GWW GIS Exports\\\\Existing Assets\\\\Merged Regions\\\\Sewer\\\\GWW_pipes.tab', 'C:\\\\Users\\\\holmest1\\\\Greater Western Water\\\\IP - Spatial - Documents\\\\Input\\\\2. GWW GIS Exports\\\\Existing Assets\\\\Merged Regions\\\\Sewer\\\\GWW_branches.tab', 'C:\\\\Users\\\\holmest1\\\\Greater Western Water\\\\IP - Spatial - Documents\\\\Input\\\\2. GWW GIS Exports\\\\Existing Assets\\\\Merged Regions\\\\Sewer\\\\GWW_nodes.tab']\n"
     ]
    }
   ],
   "source": [
    "type(outpaths)\n",
    "print(outpaths)"
   ]
  }
 ],
 "metadata": {
  "kernelspec": {
   "display_name": "Python 3",
   "language": "python",
   "name": "python3"
  },
  "language_info": {
   "codemirror_mode": {
    "name": "ipython",
    "version": 3
   },
   "file_extension": ".py",
   "mimetype": "text/x-python",
   "name": "python",
   "nbconvert_exporter": "python",
   "pygments_lexer": "ipython3",
   "version": "3.12.4"
  }
 },
 "nbformat": 4,
 "nbformat_minor": 2
}
